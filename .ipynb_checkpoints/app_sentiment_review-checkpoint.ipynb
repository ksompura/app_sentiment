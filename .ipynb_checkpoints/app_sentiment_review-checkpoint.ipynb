{
 "cells": [
  {
   "cell_type": "markdown",
   "id": "55086b18",
   "metadata": {
    "tags": []
   },
   "source": [
    "# App review sentiment over time"
   ]
  },
  {
   "cell_type": "code",
   "execution_count": 5,
   "id": "eb5f6b28",
   "metadata": {},
   "outputs": [],
   "source": [
    "# import packages\n",
    "import pandas as pd\n",
    "import numpy as np\n",
    "\n",
    "\n",
    "\n",
    "\n",
    "\n"
   ]
  },
  {
   "cell_type": "code",
   "execution_count": null,
   "id": "750b04d0-62f6-4ac9-813b-36202635e1ca",
   "metadata": {},
   "outputs": [],
   "source": [
    "import json\n",
    "import matplotlib.pyplot as plt\n",
    "import matplotlib.ticker as ticker\n",
    "import seaborn as sns\n",
    "import datetime\n",
    "from google_play_scraper import Sort, reviews, app\n",
    "from tqdm import tqdm\n",
    "from vaderSentiment.vaderSentiment import SentimentIntensityAnalyzer"
   ]
  },
  {
   "cell_type": "code",
   "execution_count": 18,
   "id": "c7d56758-a1f5-4781-b87d-677363c30bdf",
   "metadata": {},
   "outputs": [],
   "source": [
    "from top2vec import Top2Vec"
   ]
  },
  {
   "cell_type": "code",
   "execution_count": null,
   "id": "eacc3347-ac95-4f66-9573-42c22eb4d692",
   "metadata": {},
   "outputs": [],
   "source": [
    "# set plot size\n",
    "plt.rcParams['figure.figsize'] = [12, 10]\n",
    "sns.set_theme()"
   ]
  },
  {
   "cell_type": "markdown",
   "id": "d184b62b-6379-48c4-b564-7009ccf13376",
   "metadata": {},
   "source": [
    "Scrape reviews from United States of Tiktok "
   ]
  },
  {
   "cell_type": "code",
   "execution_count": null,
   "id": "eb5d62c8-97da-4f9c-abdb-f71b6df4b499",
   "metadata": {},
   "outputs": [],
   "source": [
    "# list of companies to scrape\n",
    "app_list = [\n",
    "    'com.thredup.android',\n",
    "    'com.poshmark.app',\n",
    "    'com.depop',\n",
    "    'com.tradesy.android',\n",
    "    'fr.vestiairecollective',\n",
    "    'fr.vinted'\n",
    "]\n",
    "\n"
   ]
  },
  {
   "cell_type": "code",
   "execution_count": null,
   "id": "f308aca7-35cb-4220-94c8-1a5067c26bd9",
   "metadata": {
    "tags": []
   },
   "outputs": [],
   "source": [
    "# scrape info for each company\n",
    "app_info = []\n",
    "\n",
    "for i in tqdm(app_list):\n",
    "    info = app(i, lang = 'en', country = 'us')\n",
    "    del info['comments']\n",
    "    app_info.append(info)"
   ]
  },
  {
   "cell_type": "code",
   "execution_count": null,
   "id": "628751bd-bd7c-43c0-9b78-d54c4622e418",
   "metadata": {},
   "outputs": [],
   "source": [
    "# make function to print organized JSON object\n",
    "def print_json(json_object):\n",
    "    json_str = json.dumps(\n",
    "    json_object,\n",
    "    indent = 4,\n",
    "    default = str\n",
    "    )\n",
    "    \n",
    "    print(json_str)"
   ]
  },
  {
   "cell_type": "code",
   "execution_count": null,
   "id": "38848b52-9c6e-4d05-85e2-27981a3a12f8",
   "metadata": {},
   "outputs": [],
   "source": [
    "print_json(app_info[3])"
   ]
  },
  {
   "cell_type": "code",
   "execution_count": null,
   "id": "60c6db47-de80-4d6b-88f9-d4f71a4ebb4b",
   "metadata": {},
   "outputs": [],
   "source": [
    "# scrape app reviews\n",
    "app_reviews = []\n",
    "\n",
    "for ap in tqdm(app_list):\n",
    "    for score in list(range(1, 6)):\n",
    "        for sort_order in [Sort.MOST_RELEVANT, Sort.NEWEST]:\n",
    "            rvs, _ = reviews(\n",
    "            ap,\n",
    "            lang='en',\n",
    "            country='us', # may want to look at other regions to get bigger picture\n",
    "            sort=sort_order,\n",
    "            #count = 50000\n",
    "            count= 20000 if score == 3 else 20000,\n",
    "            filter_score_with=score\n",
    "            )\n",
    "            for r in rvs:\n",
    "                r['sortOrder'] = 'most_relevant' if sort_order == Sort.MOST_RELEVANT else 'newest'\n",
    "                r['appId'] = ap\n",
    "            app_reviews.extend(rvs)\n",
    "    "
   ]
  },
  {
   "cell_type": "code",
   "execution_count": 6,
   "id": "eb5ef803-9d1e-4af2-bb00-4fd009d863fa",
   "metadata": {},
   "outputs": [],
   "source": [
    "# read in csv file of scraped reviews\n",
    "app_reviews = pd.read_csv('app_reviews.csv')"
   ]
  },
  {
   "cell_type": "code",
   "execution_count": null,
   "id": "6e1ba47f-bd46-42ab-a066-4a6e1a919df8",
   "metadata": {
    "tags": []
   },
   "outputs": [],
   "source": [
    "# check what a review object looks like\n",
    "print_json(app_reviews[0])"
   ]
  },
  {
   "cell_type": "code",
   "execution_count": 7,
   "id": "a0bdda3c-ef05-47c4-8ee0-ecea4042ebb8",
   "metadata": {},
   "outputs": [
    {
     "name": "stdout",
     "output_type": "stream",
     "text": [
      "212255\n"
     ]
    }
   ],
   "source": [
    "# number of reviews\n",
    "print(len(app_reviews))\n",
    "\n",
    "# convert into dataframe\n",
    "app_df = pd.DataFrame(app_reviews)\n",
    "\n"
   ]
  },
  {
   "cell_type": "code",
   "execution_count": null,
   "id": "77548610-da14-4552-8c7c-6acb3de037cd",
   "metadata": {},
   "outputs": [],
   "source": [
    "# write to csv file so don't have to run the scrape every time (+15 min)\n",
    "#app_df.to_csv('app_reviews.csv',index=False)"
   ]
  },
  {
   "cell_type": "code",
   "execution_count": null,
   "id": "4ed59124-7b21-462f-8127-9cd68623d63b",
   "metadata": {},
   "outputs": [],
   "source": [
    "app_df.head(1)"
   ]
  },
  {
   "cell_type": "code",
   "execution_count": null,
   "id": "5086eb08-ba3c-4a2c-933c-367266e05878",
   "metadata": {},
   "outputs": [],
   "source": [
    "app_df.info()"
   ]
  },
  {
   "cell_type": "code",
   "execution_count": 8,
   "id": "c92ee863-17a1-461b-b433-0dc1fd7a1d39",
   "metadata": {},
   "outputs": [],
   "source": [
    "# drop columns related to replied and not related to score or appId, because they have many NaNs or are not relevant\n",
    "clean_df = app_df.drop(['replyContent',\n",
    "                        'repliedAt',\n",
    "                        'userName',\n",
    "                        'userImage',\n",
    "                        'reviewCreatedVersion',\n",
    "                        'sortOrder'\n",
    "                       ], axis = 1, inplace = False)"
   ]
  },
  {
   "cell_type": "code",
   "execution_count": null,
   "id": "bb3d7520-845b-4ea2-a4ca-b6fd83b72dd0",
   "metadata": {},
   "outputs": [],
   "source": [
    "clean_df.info()\n",
    "# review Created Version is has some nulls, but the column may be useful because it contains the app's version"
   ]
  },
  {
   "cell_type": "code",
   "execution_count": null,
   "id": "912980a4-99a8-4893-8774-b9c0ef27f872",
   "metadata": {},
   "outputs": [],
   "source": [
    "# possible future analysis -> review created version for each app\n",
    "# maybe group by app version and get sentiment for each version\n"
   ]
  },
  {
   "cell_type": "code",
   "execution_count": null,
   "id": "423e2ed9-e344-4ddf-8298-10348c61b7c9",
   "metadata": {},
   "outputs": [],
   "source": [
    "# count how many reviews pulled from each app\n",
    "\n",
    "clean_df.groupby(['appId', 'score'])['reviewId'].count()\n",
    "p=clean_df.groupby('score')['reviewId'].count().plot(kind='bar')\n",
    "\n",
    "p.savefig('stars.png')"
   ]
  },
  {
   "cell_type": "code",
   "execution_count": null,
   "id": "e0b22881-ffc7-49d7-80e3-d452c89a8de0",
   "metadata": {},
   "outputs": [],
   "source": [
    "\n",
    "p_df = clean_df.copy()\n",
    "\n",
    "# extract a combined month year key\n",
    "\n",
    "p_df['month_year'] = pd.to_datetime(p_df['at']).dt.to_period('M')\n",
    "\n",
    "p_df2 = p_df[['month_year', 'appId']].copy()\n",
    "\n",
    "count_df = (p_df2.reset_index()\n",
    "        .groupby(['month_year','appId'], as_index = False)\n",
    "        .count()\n",
    "        .rename(columns={'index':'count'})\n",
    "       )\n",
    "\n",
    "count_df.sort_values(['appId','month_year'], inplace = True)\n",
    "count_df.head()\n",
    "# extract depop data frame and plot \n",
    "depop_count = count_df.loc[count_df['appId'] == 'com.depop']\n",
    "\n",
    "depop_count.index = depop_count['month_year']\n",
    "\n",
    "\n",
    "# depop_count.plot()\n"
   ]
  },
  {
   "cell_type": "code",
   "execution_count": null,
   "id": "cbe734ad-31c2-42e6-b5a1-6b47b91e7b7c",
   "metadata": {},
   "outputs": [],
   "source": [
    "# plot_df[:,0:2]"
   ]
  },
  {
   "cell_type": "code",
   "execution_count": null,
   "id": "1d1e0d10-c762-405b-941a-67fb93b9f402",
   "metadata": {},
   "outputs": [],
   "source": [
    "# subplot for each app\n",
    "\n",
    "\n",
    "plot_df = pd.pivot_table(count_df.reset_index(),\n",
    "               index='month_year', columns='appId', values='count'\n",
    "              )#.plot(subplots=True)\n",
    "\n",
    "plot_df = plot_df.ffill()\n",
    "\n",
    "#plot_df.head()\n",
    "fig, axes = plt.subplots(nrows=3,ncols=2,figsize=(12,6))\n",
    "\n",
    "# plot first pandas frame in subplot style\n",
    "df1 = plot_df.iloc[:, 0:3]\n",
    "df2 = plot_df.iloc[:, 3:]\n",
    "\n",
    "plt.style.use('ggplot')\n",
    "df1.plot(ax = axes[:,0],subplots=True) \n",
    "# plot second pandas frame in subplot style\n",
    "#sns.color_pallette('Set1',3)\n",
    "plt.style.use('seaborn-dark-palette')\n",
    "df2.plot(ax = axes[:,1],subplots=True)\n",
    "\n",
    "fig.supxlabel('Time')\n",
    "fig.supylabel('Number of Reviews')\n",
    "\n",
    "\n",
    "plt.show()"
   ]
  },
  {
   "cell_type": "code",
   "execution_count": null,
   "id": "79abfacf-4e6b-46c2-9b49-e8b043864864",
   "metadata": {},
   "outputs": [],
   "source": [
    "fig.savefig(\"num_rev_time.png\")"
   ]
  },
  {
   "cell_type": "code",
   "execution_count": null,
   "id": "787bf029-9017-4f12-8c94-cd2ed68cabb7",
   "metadata": {},
   "outputs": [],
   "source": [
    "clean_df.groupby(['appId'])['at'].max()\n",
    "\n",
    "# fill in missing dates with zero "
   ]
  },
  {
   "cell_type": "code",
   "execution_count": null,
   "id": "8721b737-b8c0-4678-a575-2696181c0847",
   "metadata": {},
   "outputs": [],
   "source": [
    "# plot number of comments over time\n",
    "# need to fix number of tick marks\n",
    "\n",
    "# p = sns.relplot(\n",
    "#     data = count_df,\n",
    "#     x = count_df['month_year'].astype(str), y = 'count', col = \"appId\", hue = 'appId',\n",
    "#     kind = \"line\", linewidth = 4, zorder = 2,\n",
    "#     col_wrap = 2, height = 4, aspect = 2, legend = False\n",
    "# )\n"
   ]
  },
  {
   "cell_type": "code",
   "execution_count": null,
   "id": "5c3b5fda-c2c9-4409-ac1c-8157cce3779c",
   "metadata": {},
   "outputs": [],
   "source": [
    "\n",
    "\n",
    "# now in log scale\n",
    "# p = sns.relplot(\n",
    "#     data = count_df,\n",
    "#     x = count_df['month_year'].astype(str), y = 'count', col = \"appId\", hue = 'appId',\n",
    "#     kind = \"line\", linewidth = 4, zorder = 2,\n",
    "#     col_wrap = 2, height = 4, aspect = 2, legend = False\n",
    "# )\n",
    "\n",
    "# start, end = p.get_xlim()\n",
    "# p.set_axis_labels(\"Time\", \"Number of Reviews\")\n",
    "\n",
    "# iterate over axes of FacetGrid\n",
    "# for ax in p.axes.flat:\n",
    "#     labels = ax.get_xticklabels() # get x labels\n",
    "#     for i,l in enumerate(labels):\n",
    "#         if(i%12 == 0): labels[i] = '' # skip even labels\n",
    "#     ax.set_xticklabels(labels, rotation=30) # set new labels\n",
    "# plt.show()\n",
    "\n",
    "#p.set(xticks=count_df['month_year'].astype(str)[2::50])\n",
    "#p.set_xticks(range(len(count_df)/12))#, labels=range(2011, 2019))\n",
    "#plt.xticks(np.arange(min(x), max(x)+1, 1.0))\n",
    "\n",
    "# p.set_xticklabels(rotation=45)\n",
    "\n",
    "\n",
    "# #p.set_xticks(np.arange(min(count_df['month_year']),max(count_df['month_year']), 12))\n",
    "\n",
    "# p.set(yscale=\"log\")\n"
   ]
  },
  {
   "cell_type": "code",
   "execution_count": null,
   "id": "2d844e37-a104-4ba7-b052-8c83e993ff00",
   "metadata": {},
   "outputs": [],
   "source": [
    "#  rolling mean of score for each app - simple sentiment analysis\n",
    "\n",
    "roll_df = p_df.copy()\n",
    "\n",
    "roll_df['day_month_year'] = pd.to_datetime(roll_df['at']).dt.to_period('D')\n",
    "\n",
    "roll_df2 = roll_df[['appId','day_month_year', 'score']].copy()\n",
    "\n",
    "\n",
    "#roll_df2 = roll_df2.sort_values(by=['appId', 'day_month_year'])\n",
    "daily_mean = roll_df2.groupby(['appId', 'day_month_year'], as_index = False)['score'].mean()"
   ]
  },
  {
   "cell_type": "code",
   "execution_count": null,
   "id": "aaa27d51-8e45-4fd5-a02e-dc07961775ef",
   "metadata": {},
   "outputs": [],
   "source": [
    "# plot mean review scores - daily\n",
    "plot2_df = pd.pivot_table(daily_mean.reset_index(),\n",
    "               index='day_month_year', columns='appId', values='score'\n",
    "              )#.plot(subplots=True)\n",
    "\n",
    "plot2_df = plot2_df.ffill()\n",
    "\n",
    "#plot_df.head()\n",
    "fig, axes = plt.subplots(nrows=3,ncols=2,figsize=(12,6))\n",
    "# plot first pandas frame in subplot style\n",
    "df1 = plot2_df.iloc[:, 0:3]\n",
    "df2 = plot2_df.iloc[:, 3:]\n",
    "\n",
    "plt.style.use('ggplot')\n",
    "df1.plot(ax = axes[:,0],subplots=True) \n",
    "# plot second pandas frame in subplot style\n",
    "#sns.color_pallette('Set1',3)\n",
    "plt.style.use('seaborn-dark-palette')\n",
    "df2.plot(ax = axes[:,1],subplots=True)\n",
    "\n",
    "fig.supxlabel('Time')\n",
    "fig.supylabel('Daily Average Review Rating')\n",
    "\n",
    "plt.show()\n",
    "fig.savefig('daily_avg_star.png')"
   ]
  },
  {
   "cell_type": "code",
   "execution_count": null,
   "id": "402e3044-0322-4f8b-b551-b86509ff8f0d",
   "metadata": {},
   "outputs": [],
   "source": [
    "\n",
    "# plot daily review score mean for each app\n",
    "score_p = sns.relplot(\n",
    "    data = daily_mean,\n",
    "    x = daily_mean['day_month_year'].astype(str), y = 'score', col = \"appId\", hue = 'appId',\n",
    "    kind = \"line\", linewidth = 2, zorder = 2,\n",
    "    col_wrap = 2, height = 4, aspect = 2, legend = False\n",
    ")\n"
   ]
  },
  {
   "cell_type": "code",
   "execution_count": null,
   "id": "e279e061-2eeb-4ab8-b61a-715a63a7f8a7",
   "metadata": {},
   "outputs": [],
   "source": [
    "daily_mean.head(5)"
   ]
  },
  {
   "cell_type": "code",
   "execution_count": null,
   "id": "48fc2c35-4527-4b31-9d0f-1d5f9e9e3584",
   "metadata": {},
   "outputs": [],
   "source": [
    "# smooth, take 2 week rolling average - include in presentation\n",
    "daily_mean['2wk_avg'] = daily_mean.groupby('appId').rolling(14)['score'].mean().reset_index(drop=True)\n",
    "\n",
    "# plot\n",
    "plot2_df = pd.pivot_table(daily_mean.reset_index(),\n",
    "               index='day_month_year', columns='appId', values='2wk_avg'\n",
    "              )#.plot(subplots=True)\n",
    "\n",
    "plot2_df = plot2_df.ffill()\n",
    "\n",
    "#plot_df.head()\n",
    "fig, axes = plt.subplots(nrows=3,ncols=2,figsize=(12,6))\n",
    "\n",
    "df1 = plot2_df.iloc[:, 0:3]\n",
    "df2 = plot2_df.iloc[:, 3:]\n",
    "\n",
    "# plot first pandas frame in subplot style\n",
    "plt.style.use('ggplot')\n",
    "df1.plot(ax = axes[:,0],subplots=True) \n",
    "# plot second pandas frame in subplot style\n",
    "#sns.color_pallette('Set1',3)\n",
    "plt.style.use('seaborn-dark-palette')\n",
    "df2.plot(ax = axes[:,1],subplots=True, kind='line')\n",
    "\n",
    "fig.supxlabel('Time')\n",
    "fig.supylabel('2 Week Average Review Rating')\n",
    "\n",
    "plt.show()\n",
    "fig.savefig('2wk_avg_star.png')"
   ]
  },
  {
   "cell_type": "code",
   "execution_count": null,
   "id": "597fe787-8702-49e9-aa75-73665d599edd",
   "metadata": {},
   "outputs": [],
   "source": [
    "# now smooth, take 2 week rolling average - include in presentation\n",
    "daily_mean['2wk_avg'] = daily_mean.groupby('appId').rolling(14)['score'].mean().reset_index(drop=True)\n",
    "\n",
    "moving_score_p = sns.relplot(\n",
    "    data = daily_mean,\n",
    "    x = daily_mean['day_month_year'].astype(str), y = '2wk_avg', col = \"appId\", hue = 'appId',\n",
    "    kind = \"line\", linewidth = 2, zorder = 2,\n",
    "    col_wrap = 2, height = 4, aspect = 2, legend = False\n",
    ")"
   ]
  },
  {
   "cell_type": "code",
   "execution_count": null,
   "id": "950469cb-1546-4898-af29-083c92bd4749",
   "metadata": {},
   "outputs": [],
   "source": [
    "# now smooth, take 30 day rolling average - don't include in presentation\n",
    "daily_mean['month_avg'] = daily_mean.groupby('appId').rolling(30)['score'].mean().reset_index(drop=True)\n",
    "\n",
    "# plot\n",
    "plot3_df = pd.pivot_table(daily_mean.reset_index(),\n",
    "               index='day_month_year', columns='appId', values='month_avg'\n",
    "              )#.plot(subplots=True)\n",
    "\n",
    "plot3_df = plot3_df.ffill()\n",
    "\n",
    "#plot_df.head()\n",
    "fig, axes = plt.subplots(nrows=3,ncols=2,figsize=(12,6))\n",
    "\n",
    "df1 = plot2_df.iloc[:, 0:3]\n",
    "df2 = plot2_df.iloc[:, 3:]\n",
    "\n",
    "# plot first pandas frame in subplot style\n",
    "plt.style.use('ggplot')\n",
    "df1.plot(ax = axes[:,0],subplots=True) \n",
    "# plot second pandas frame in subplot style\n",
    "#sns.color_pallette('Set1',3)\n",
    "plt.style.use('seaborn-dark-palette')\n",
    "df2.plot(ax = axes[:,1],subplots=True, kind='line')\n",
    "\n",
    "plt.show()\n",
    "\n",
    "# moving_month_score_p = sns.relplot(\n",
    "#     data = daily_mean,\n",
    "#     x = daily_mean['day_month_year'].astype(str), y = 'month_avg', col = \"appId\", hue = 'appId',\n",
    "#     kind = \"line\", linewidth = 2, zorder = 2,\n",
    "#     col_wrap = 2, height = 4, aspect = 2, legend = False\n",
    "# )"
   ]
  },
  {
   "cell_type": "code",
   "execution_count": null,
   "id": "4f6d4800-ff99-403e-b77b-37074ba37390",
   "metadata": {},
   "outputs": [],
   "source": [
    "# VADER sentiment analysis - designed and trained for social media texts\n",
    "sentAnalyser = SentimentIntensityAnalyzer()"
   ]
  },
  {
   "cell_type": "code",
   "execution_count": null,
   "id": "5db8c7cd-fc47-4756-b4ba-ae2513264648",
   "metadata": {},
   "outputs": [],
   "source": [
    "# function to extract sentiment from each review\n",
    "def calculate_sentiment(comment):\n",
    "    # Run VADER on the reviews\n",
    "    scores = sentAnalyser.polarity_scores(comment)\n",
    "    # Extract the compound score\n",
    "    compound_score = scores['compound']\n",
    "    # Return compound score\n",
    "    return compound_score"
   ]
  },
  {
   "cell_type": "code",
   "execution_count": null,
   "id": "7d7a5225-b6b4-4d2e-b3e5-a6a5b74e399a",
   "metadata": {},
   "outputs": [],
   "source": [
    "# check if there are any NaN comments\n",
    "clean_df.loc[clean_df['content'] == None].count().iloc[0]\n",
    "print(sum(x is None for x in clean_df['content']))\n",
    "print(sum(x is None for x in clean_df['at']))\n",
    "clean_df = clean_df[clean_df['content'].notnull()]"
   ]
  },
  {
   "cell_type": "code",
   "execution_count": null,
   "id": "f10caff7-1425-48d0-862f-70fc019ba232",
   "metadata": {},
   "outputs": [],
   "source": [
    "# Apply the function to every row in the \"content\" column and output the results into a new column \"sentiment_score\"\n",
    "clean_df['sentiment_score'] = clean_df['content'].apply(calculate_sentiment)"
   ]
  },
  {
   "cell_type": "code",
   "execution_count": null,
   "id": "60cea475-914c-47d0-890b-e0c6f6fd9113",
   "metadata": {},
   "outputs": [],
   "source": [
    "good = \"I think this app is good, the clothes came right on time\"\n",
    "print(calculate_sentiment(good))\n",
    "bad = \"The clothes came late, would not recommend\"\n",
    "print(calculate_sentiment(bad))"
   ]
  },
  {
   "cell_type": "code",
   "execution_count": null,
   "id": "28afd95c-a75d-46cc-b9f4-ec4f871fab52",
   "metadata": {},
   "outputs": [],
   "source": [
    "# now get rolling average for sentiment over time\n",
    "sen_df = clean_df[['at','appId','sentiment_score']].copy()\n",
    "\n",
    "sen_df['day_month_year'] = pd.to_datetime(sen_df['at']).dt.to_period('D')\n",
    "\n",
    "sen_daily_mean = sen_df.groupby(['appId', 'day_month_year'], as_index = False)['sentiment_score'].mean()\n",
    "\n",
    "# now smooth, take 2 week rolling average - include in presentation\n",
    "sen_daily_mean['2wk_avg_sen'] = sen_daily_mean.groupby('appId').rolling(14)['sentiment_score'].mean().reset_index(drop=True)\n",
    "\n"
   ]
  },
  {
   "cell_type": "code",
   "execution_count": null,
   "id": "74f49710-81ac-4860-b3f7-a55827d6c3ec",
   "metadata": {},
   "outputs": [],
   "source": [
    "\n",
    "# plot rolling 2 week sentiment\n",
    "plot4_df = pd.pivot_table(sen_daily_mean.reset_index(),\n",
    "               index='day_month_year', columns='appId', values='2wk_avg_sen'\n",
    "              )\n",
    "\n",
    "\n",
    "plot4_df = plot4_df.ffill()\n",
    "\n",
    "fig, axes = plt.subplots(nrows=3,ncols=2,figsize=(12,6))\n",
    "\n",
    "df1 = plot4_df.iloc[:, 0:3]\n",
    "df2 = plot4_df.iloc[:, 3:]\n",
    "\n",
    "\n",
    "# plot first pandas frame in subplot style\n",
    "plt.style.use('ggplot')\n",
    "df1.plot(ax = axes[:,0],subplots=True) \n",
    "# plot second pandas frame in subplot style\n",
    "#sns.color_pallette('Set1',3)\n",
    "plt.style.use('seaborn-dark-palette')\n",
    "df2.plot(ax = axes[:,1],subplots=True, kind='line')\n",
    "\n",
    "fig.supxlabel('Time')\n",
    "fig.supylabel('2 Week Average Sentiment')\n",
    "\n",
    "plt.show()\n",
    "fig.savefig('2wk_avg_sentiment.png')"
   ]
  },
  {
   "cell_type": "code",
   "execution_count": null,
   "id": "459a88c6-1f83-43bb-989e-094860e60fcc",
   "metadata": {},
   "outputs": [],
   "source": [
    "# could further analyze with top2vec, topic modeling and analysis"
   ]
  }
 ],
 "metadata": {
  "kernelspec": {
   "display_name": "Python 3 (ipykernel)",
   "language": "python",
   "name": "python3"
  },
  "language_info": {
   "codemirror_mode": {
    "name": "ipython",
    "version": 3
   },
   "file_extension": ".py",
   "mimetype": "text/x-python",
   "name": "python",
   "nbconvert_exporter": "python",
   "pygments_lexer": "ipython3",
   "version": "3.9.16"
  }
 },
 "nbformat": 4,
 "nbformat_minor": 5
}
